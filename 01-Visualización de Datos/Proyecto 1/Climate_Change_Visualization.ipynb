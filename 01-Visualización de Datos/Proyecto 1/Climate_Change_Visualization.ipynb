{
 "cells": [
  {
   "cell_type": "markdown",
   "id": "009fb9fd",
   "metadata": {},
   "source": [
    "# Visualización interactiva de cambios climáticos\n",
    "\n",
    "Este cuaderno demuestra el análisis y la visualización interactiva de los cambios climáticos utilizando datos históricos de temperaturas globales. Se siguen las siguientes etapas:\n",
    "\n",
    "1. Carga de datos.\n",
    "2. Limpieza de datos.\n",
    "3. Estandarización y preprocesamiento.\n",
    "4. Visualización interactiva con Plotly.\n",
    "\n",
    "---"
   ]
  },
  {
   "cell_type": "markdown",
   "id": "da4a9f7f",
   "metadata": {},
   "source": [
    "# Cambio Climático: Datos de Temperatura Superficial de la Tierra\n",
    "\n",
    "## Acerca del Conjunto de Datos\n",
    "\n",
    "Algunos dicen que el cambio climático es la mayor amenaza de nuestra era, mientras que otros afirman que es un mito basado en una ciencia cuestionable.\n",
    "\n",
    "Más que con otros conjuntos de datos destacados por Kaggle, existe una enorme cantidad de limpieza y preparación de datos involucrada en la compilación de un estudio a largo plazo sobre las tendencias climáticas. Los datos tempranos fueron recolectados por técnicos utilizando termómetros de mercurio, donde cualquier variación en el horario de las mediciones impactaba los resultados. En la década de 1940, la construcción de aeropuertos provocó el traslado de muchas estaciones meteorológicas. En la década de 1980, se adoptaron termómetros electrónicos que, según se informa, tienen un sesgo hacia valores más bajos de temperatura.\n",
    "\n",
    "Dada esta complejidad, existen varias organizaciones que recopilan datos sobre tendencias climáticas. Los tres conjuntos de datos más citados sobre temperaturas terrestres y oceánicas son: MLOST de NOAA, GISTEMP de NASA y HadCrut del Reino Unido.\n",
    "\n",
    "Hemos reempaquetado los datos a partir de una compilación más reciente elaborada por Berkeley Earth, una organización afiliada al Lawrence Berkeley National Laboratory. El estudio Berkeley Earth Surface Temperature Study combina 1.6 mil millones de reportes de temperatura provenientes de 16 archivos preexistentes. Este conjunto está bien estructurado y permite dividirse en subconjuntos interesantes (por ejemplo, por país). Publican tanto los datos originales como el código de las transformaciones que aplicaron. Además, emplean métodos que permiten incluir observaciones climáticas de series de tiempo más cortas, reduciendo la cantidad de datos que deben ser descartados.\n",
    "\n",
    "En este conjunto de datos, hemos incluido varios archivos:\n",
    "\n",
    "Temperaturas globales de tierra y océano (GlobalTemperatures.csv):\n",
    "Date: comienza en 1750 para temperaturas terrestres promedio, y en 1850 para temperaturas máximas y mínimas, así como para temperaturas globales de tierra y océano.\n",
    "- LandAverageTemperature: temperatura terrestre promedio global en grados Celsius.\n",
    "- LandAverageTemperatureUncertainty: intervalo de confianza del 95 % alrededor de la temperatura promedio.\n",
    "- LandMaxTemperature: temperatura máxima terrestre promedio global en grados Celsius.\n",
    "- LandMaxTemperatureUncertainty: intervalo de confianza del 95 % alrededor de la temperatura máxima terrestre.\n",
    "- LandMinTemperature: temperatura mínima terrestre promedio global en grados Celsius.\n",
    "- LandMinTemperatureUncertainty: intervalo de confianza del 95 % alrededor de la temperatura mínima terrestre.\n",
    "- LandAndOceanAverageTemperature: temperatura promedio global de tierra y océano en grados Celsius.\n",
    "- LandAndOceanAverageTemperatureUncertainty: intervalo de confianza del 95 % alrededor de la temperatura promedio global de tierra y océano.\n",
    "\n",
    "Otros archivos incluidos:\n",
    "- GlobalLandTemperaturesByCountry.csv: temperatura terrestre promedio global por país.\n",
    "- GlobalLandTemperaturesByState.csv: temperatura terrestre promedio global por estado.\n",
    "- GlobalLandTemperaturesByMajorCity.csv: temperatura terrestre promedio global por ciudades principales.\n",
    "- GlobalLandTemperaturesByCity.csv: temperatura terrestre promedio global por ciudad.\n",
    "\n",
    "Los datos originales provienen de la página de datos de Berkeley Earth."
   ]
  },
  {
   "cell_type": "markdown",
   "id": "ed7ed1c7",
   "metadata": {},
   "source": [
    "# Instalación de librerias "
   ]
  },
  {
   "cell_type": "code",
   "execution_count": null,
   "id": "f7c0615f",
   "metadata": {},
   "outputs": [],
   "source": [
    "# instalacion de librerias utilizadas\n",
    "%pip install pandas matplotlib seaborn scikit-learn\n",
    "%pip install numpy\n",
    "%pip install scipy"
   ]
  },
  {
   "cell_type": "code",
   "execution_count": 1,
   "id": "f2024749",
   "metadata": {},
   "outputs": [],
   "source": [
    "# Importar librerías necesarias\n",
    "import pandas as pd\n",
    "import matplotlib.pyplot as plt\n",
    "import seaborn as sns\n",
    "from sklearn.preprocessing import StandardScaler"
   ]
  },
  {
   "cell_type": "markdown",
   "id": "10561a96",
   "metadata": {},
   "source": [
    "# Carga de Datos"
   ]
  },
  {
   "cell_type": "markdown",
   "id": "dbf9c0c5",
   "metadata": {},
   "source": [
    "### Para descarga de la base de datos: \n",
    "Fuente https://www.kaggle.com/datasets/berkeleyearth/climate-change-earth-surface-temperature-data/data"
   ]
  },
  {
   "cell_type": "code",
   "execution_count": 3,
   "id": "a6841985",
   "metadata": {},
   "outputs": [
    {
     "name": "stdout",
     "output_type": "stream",
     "text": [
      "Downloading from https://www.kaggle.com/api/v1/datasets/download/berkeleyearth/climate-change-earth-surface-temperature-data?dataset_version_number=2...\n"
     ]
    },
    {
     "name": "stderr",
     "output_type": "stream",
     "text": [
      "100%|██████████| 84.7M/84.7M [00:26<00:00, 3.35MB/s]\n"
     ]
    },
    {
     "name": "stdout",
     "output_type": "stream",
     "text": [
      "Extracting files...\n",
      "Path to dataset files: C:\\Users\\frany\\.cache\\kagglehub\\datasets\\berkeleyearth\\climate-change-earth-surface-temperature-data\\versions\\2\n"
     ]
    }
   ],
   "source": [
    "# #  Cargar los datos desde la fuente\n",
    "# %pip install kagglehub\n",
    "# import kagglehub\n",
    "\n",
    "# # Download latest version\n",
    "# path = kagglehub.dataset_download(\"berkeleyearth/climate-change-earth-surface-temperature-data\")\n",
    "\n",
    "# print(\"Path to dataset files:\", path)"
   ]
  },
  {
   "cell_type": "code",
   "execution_count": null,
   "id": "8b9f049a",
   "metadata": {},
   "outputs": [],
   "source": [
    "\n",
    "\n",
    "# Cargar los archivos CSV\n",
    "city_data = pd.read_csv('GlobalLandTemperaturesByCity.csv')\n",
    "country_data = pd.read_csv('GlobalLandTemperaturesByCountry.csv')\n",
    "major_city_data = pd.read_csv('GlobalLandTemperaturesByMajorCity.csv')\n",
    "state_data = pd.read_csv('GlobalLandTemperaturesByState.csv')\n",
    "global_data = pd.read_csv('GlobalTemperatures.csv')\n"
   ]
  },
  {
   "cell_type": "code",
   "execution_count": null,
   "id": "3442df99",
   "metadata": {},
   "outputs": [],
   "source": [
    "# Mostrar las primeras filas de cada dataframe\n",
    "print(\"City Data:\")\n",
    "display(city_data.head())\n",
    "\n",
    "print(\"Country Data:\")\n",
    "display(country_data.head())\n",
    "\n",
    "print(\"Major City Data:\")\n",
    "display(major_city_data.head())\n",
    "\n",
    "print(\"State Data:\")\n",
    "display(state_data.head())\n",
    "\n",
    "print(\"Global Data:\")\n",
    "display(global_data.head())"
   ]
  },
  {
   "cell_type": "markdown",
   "id": "83b7e2ea",
   "metadata": {},
   "source": [
    "# Estandarización de la información y de los campos"
   ]
  },
  {
   "cell_type": "code",
   "execution_count": null,
   "id": "cd5be80e",
   "metadata": {},
   "outputs": [],
   "source": [
    "\n",
    "# Convertir las columnas 'dt' a tipo datetime\n",
    "city_data['dt'] = pd.to_datetime(city_data['dt'])\n",
    "country_data['dt'] = pd.to_datetime(country_data['dt'])\n",
    "major_city_data['dt'] = pd.to_datetime(major_city_data['dt'])\n",
    "state_data['dt'] = pd.to_datetime(state_data['dt'])\n",
    "global_data['dt'] = pd.to_datetime(global_data['dt'])\n",
    "\n",
    "# Estandarización de las columnas de temperatura\n",
    "scaler = StandardScaler()\n",
    "\n",
    "# Establecer las columnas que vamos a estandarizar\n",
    "temperature_columns = ['AverageTemperature', 'AverageTemperatureUncertainty', \n",
    "                       'LandAverageTemperature', 'LandMaxTemperature', \n",
    "                       'LandMinTemperature', 'LandAndOceanAverageTemperature']\n",
    "\n",
    "# Aplicar estandarización\n",
    "city_data['StandardizedTemperature'] = scaler.fit_transform(city_data[['AverageTemperature']])\n",
    "major_city_data['StandardizedTemperature'] = scaler.fit_transform(major_city_data[['AverageTemperature']])\n",
    "state_data['StandardizedTemperature'] = scaler.fit_transform(state_data[['AverageTemperature']])\n",
    "global_data['StandardizedLandTemperature'] = scaler.fit_transform(global_data[['LandAverageTemperature']])\n",
    "\n"
   ]
  },
  {
   "cell_type": "markdown",
   "id": "35056c5d",
   "metadata": {},
   "source": [
    "# Visualización de los datos"
   ]
  },
  {
   "cell_type": "code",
   "execution_count": null,
   "id": "05302efc",
   "metadata": {},
   "outputs": [],
   "source": [
    "# Visualización de las temperaturas promedio por año para 'City'\n",
    "plt.figure(figsize=(10,6))\n",
    "city_data.groupby(city_data['dt'].dt.year)['AverageTemperature'].mean().plot()\n",
    "plt.title('Average Temperature per Year (City Data)', fontsize=16)\n",
    "plt.xlabel('Year')\n",
    "plt.ylabel('Average Temperature')\n",
    "plt.grid(True)\n",
    "plt.show()\n",
    "\n"
   ]
  },
  {
   "cell_type": "code",
   "execution_count": null,
   "id": "3b871013",
   "metadata": {},
   "outputs": [],
   "source": [
    "\n",
    "# Visualización de la temperatura promedio por país\n",
    "plt.figure(figsize=(10,6))\n",
    "country_data.groupby(country_data['dt'].dt.year)['AverageTemperature'].mean().plot()\n",
    "plt.title('Average Temperature per Year (Country Data)', fontsize=16)\n",
    "plt.xlabel('Year')\n",
    "plt.ylabel('Average Temperature')\n",
    "plt.grid(True)\n",
    "plt.show()\n"
   ]
  },
  {
   "cell_type": "code",
   "execution_count": null,
   "id": "529b8ef2",
   "metadata": {},
   "outputs": [],
   "source": [
    "\n",
    "# Visualización comparativa entre diferentes ciudades principales\n",
    "plt.figure(figsize=(12,6))\n",
    "major_city_data.groupby([major_city_data['dt'].dt.year, 'City'])['AverageTemperature'].mean().unstack().plot()\n",
    "plt.title('Average Temperature per Year by Major City', fontsize=16)\n",
    "plt.xlabel('Year')\n",
    "plt.ylabel('Average Temperature')\n",
    "plt.grid(True)\n",
    "plt.show()\n"
   ]
  },
  {
   "cell_type": "code",
   "execution_count": null,
   "id": "ea0ef19a",
   "metadata": {},
   "outputs": [],
   "source": [
    "\n",
    "# Histograma de la distribución de las temperaturas globales\n",
    "plt.figure(figsize=(10,6))\n",
    "sns.histplot(global_data['LandAverageTemperature'], kde=True, color='blue')\n",
    "plt.title('Distribution of Global Land Average Temperatures', fontsize=16)\n",
    "plt.xlabel('Temperature')\n",
    "plt.ylabel('Frequency')\n",
    "plt.grid(True)\n",
    "plt.show()\n"
   ]
  },
  {
   "cell_type": "code",
   "execution_count": null,
   "id": "908f21b4",
   "metadata": {},
   "outputs": [],
   "source": [
    "\n",
    "# Visualización de la tendencia de las temperaturas globales\n",
    "plt.figure(figsize=(12,6))\n",
    "global_data.groupby(global_data['dt'].dt.year)['LandAverageTemperature'].mean().plot()\n",
    "plt.title('Global Average Land Temperature Over Time', fontsize=16)\n",
    "plt.xlabel('Year')\n",
    "plt.ylabel('Average Land Temperature')\n",
    "plt.grid(True)\n",
    "plt.show()\n"
   ]
  },
  {
   "cell_type": "code",
   "execution_count": null,
   "id": "a5c6517c",
   "metadata": {},
   "outputs": [],
   "source": [
    "\n",
    "# Mostrar información general de los datasets después de la estandarización\n",
    "print(\"City Data with Standardized Temperature:\")\n",
    "display(city_data.head())\n",
    "\n",
    "print(\"Major City Data with Standardized Temperature:\")\n",
    "display(major_city_data.head())\n",
    "\n",
    "print(\"Global Data with Standardized Land Temperature:\")\n",
    "display(global_data.head())"
   ]
  }
 ],
 "metadata": {
  "kernelspec": {
   "display_name": "base",
   "language": "python",
   "name": "python3"
  },
  "language_info": {
   "codemirror_mode": {
    "name": "ipython",
    "version": 3
   },
   "file_extension": ".py",
   "mimetype": "text/x-python",
   "name": "python",
   "nbconvert_exporter": "python",
   "pygments_lexer": "ipython3",
   "version": "3.12.4"
  }
 },
 "nbformat": 4,
 "nbformat_minor": 5
}

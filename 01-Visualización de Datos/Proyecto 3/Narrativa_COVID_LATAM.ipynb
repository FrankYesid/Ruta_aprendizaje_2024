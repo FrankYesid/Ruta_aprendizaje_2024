{
 "cells": [
  {
   "cell_type": "markdown",
   "metadata": {},
   "source": [
    "# Narrativa de Datos sobre COVID-19 en LATAM\n",
    "\n",
    "En este cuaderno, exploramos datos relacionados con la evolución de la pandemia de COVID-19 en países de América Latina (LATAM). Usamos datos históricos de casos, muertes y vacunaciones para contar una historia visual impactante sobre cómo la pandemia afectó esta región."
   ]
  },
  {
   "cell_type": "code",
   "execution_count": 2,
   "metadata": {},
   "outputs": [],
   "source": [
    "# Importar las bibliotecas necesarias\n",
    "import pandas as pd\n",
    "import matplotlib.pyplot as plt\n",
    "import seaborn as sns\n",
    "\n",
    "# Configurar estilo de gráficos\n",
    "sns.set(style=\"whitegrid\")"
   ]
  },
  {
   "cell_type": "markdown",
   "metadata": {},
   "source": [
    "## 1. Cargar los datos\n",
    "Cargamos los datos desde el archivo CSV proporcionado."
   ]
  },
  {
   "cell_type": "code",
   "execution_count": 1,
   "id": "7ba93b81",
   "metadata": {},
   "outputs": [
    {
     "name": "stdout",
     "output_type": "stream",
     "text": [
      "Downloading from https://www.kaggle.com/api/v1/datasets/download/davidrestrepo/challenge-covid19-in-latam?dataset_version_number=12...\n"
     ]
    },
    {
     "name": "stderr",
     "output_type": "stream",
     "text": [
      "100%|██████████| 2.84M/2.84M [00:00<00:00, 6.75MB/s]"
     ]
    },
    {
     "name": "stdout",
     "output_type": "stream",
     "text": [
      "Extracting files...\n"
     ]
    },
    {
     "name": "stderr",
     "output_type": "stream",
     "text": [
      "\n"
     ]
    },
    {
     "name": "stdout",
     "output_type": "stream",
     "text": [
      "Path to dataset files: C:\\Users\\frany\\.cache\\kagglehub\\datasets\\davidrestrepo\\challenge-covid19-in-latam\\versions\\12\n"
     ]
    }
   ],
   "source": [
    "# Descargar la base de datos\n",
    "# import kagglehub\n",
    "\n",
    "# # Download latest version\n",
    "# path = kagglehub.dataset_download(\"davidrestrepo/challenge-covid19-in-latam\")\n",
    "\n",
    "# print(\"Path to dataset files:\", path)"
   ]
  },
  {
   "cell_type": "code",
   "execution_count": 4,
   "metadata": {},
   "outputs": [
    {
     "data": {
      "text/html": [
       "<div>\n",
       "<style scoped>\n",
       "    .dataframe tbody tr th:only-of-type {\n",
       "        vertical-align: middle;\n",
       "    }\n",
       "\n",
       "    .dataframe tbody tr th {\n",
       "        vertical-align: top;\n",
       "    }\n",
       "\n",
       "    .dataframe thead th {\n",
       "        text-align: right;\n",
       "    }\n",
       "</style>\n",
       "<table border=\"1\" class=\"dataframe\">\n",
       "  <thead>\n",
       "    <tr style=\"text-align: right;\">\n",
       "      <th></th>\n",
       "      <th>location</th>\n",
       "      <th>2020-02-23</th>\n",
       "      <th>2020-02-24</th>\n",
       "      <th>2020-02-25</th>\n",
       "      <th>2020-02-26</th>\n",
       "      <th>2020-02-27</th>\n",
       "      <th>2020-02-28</th>\n",
       "      <th>2020-02-29</th>\n",
       "      <th>2020-03-01</th>\n",
       "      <th>2020-03-02</th>\n",
       "      <th>...</th>\n",
       "      <th>2022-05-17</th>\n",
       "      <th>2022-05-18</th>\n",
       "      <th>2022-05-19</th>\n",
       "      <th>2022-05-20</th>\n",
       "      <th>2022-05-21</th>\n",
       "      <th>2022-05-22</th>\n",
       "      <th>2022-05-23</th>\n",
       "      <th>2022-05-24</th>\n",
       "      <th>2022-05-25</th>\n",
       "      <th>2022-05-26</th>\n",
       "    </tr>\n",
       "  </thead>\n",
       "  <tbody>\n",
       "    <tr>\n",
       "      <th>0</th>\n",
       "      <td>Antigua and Barbuda</td>\n",
       "      <td>0.0</td>\n",
       "      <td>0.0</td>\n",
       "      <td>0.0</td>\n",
       "      <td>0.0</td>\n",
       "      <td>0.0</td>\n",
       "      <td>0.0</td>\n",
       "      <td>0.0</td>\n",
       "      <td>0.0</td>\n",
       "      <td>0.0</td>\n",
       "      <td>...</td>\n",
       "      <td>0.000</td>\n",
       "      <td>607.730</td>\n",
       "      <td>557.086</td>\n",
       "      <td>0.000</td>\n",
       "      <td>324.123</td>\n",
       "      <td>0.000</td>\n",
       "      <td>405.154</td>\n",
       "      <td>0.000</td>\n",
       "      <td>810.307</td>\n",
       "      <td>577.344</td>\n",
       "    </tr>\n",
       "    <tr>\n",
       "      <th>1</th>\n",
       "      <td>Argentina</td>\n",
       "      <td>0.0</td>\n",
       "      <td>0.0</td>\n",
       "      <td>0.0</td>\n",
       "      <td>0.0</td>\n",
       "      <td>0.0</td>\n",
       "      <td>0.0</td>\n",
       "      <td>0.0</td>\n",
       "      <td>0.0</td>\n",
       "      <td>0.0</td>\n",
       "      <td>...</td>\n",
       "      <td>0.000</td>\n",
       "      <td>0.000</td>\n",
       "      <td>0.000</td>\n",
       "      <td>0.000</td>\n",
       "      <td>0.000</td>\n",
       "      <td>953.541</td>\n",
       "      <td>0.000</td>\n",
       "      <td>0.000</td>\n",
       "      <td>0.000</td>\n",
       "      <td>0.000</td>\n",
       "    </tr>\n",
       "    <tr>\n",
       "      <th>2</th>\n",
       "      <td>Bahamas</td>\n",
       "      <td>0.0</td>\n",
       "      <td>0.0</td>\n",
       "      <td>0.0</td>\n",
       "      <td>0.0</td>\n",
       "      <td>0.0</td>\n",
       "      <td>0.0</td>\n",
       "      <td>0.0</td>\n",
       "      <td>0.0</td>\n",
       "      <td>0.0</td>\n",
       "      <td>...</td>\n",
       "      <td>80.622</td>\n",
       "      <td>55.428</td>\n",
       "      <td>123.452</td>\n",
       "      <td>221.710</td>\n",
       "      <td>161.244</td>\n",
       "      <td>156.205</td>\n",
       "      <td>73.064</td>\n",
       "      <td>131.011</td>\n",
       "      <td>0.000</td>\n",
       "      <td>317.449</td>\n",
       "    </tr>\n",
       "    <tr>\n",
       "      <th>3</th>\n",
       "      <td>Barbados</td>\n",
       "      <td>0.0</td>\n",
       "      <td>0.0</td>\n",
       "      <td>0.0</td>\n",
       "      <td>0.0</td>\n",
       "      <td>0.0</td>\n",
       "      <td>0.0</td>\n",
       "      <td>0.0</td>\n",
       "      <td>0.0</td>\n",
       "      <td>0.0</td>\n",
       "      <td>...</td>\n",
       "      <td>1630.125</td>\n",
       "      <td>1400.726</td>\n",
       "      <td>1289.502</td>\n",
       "      <td>1077.481</td>\n",
       "      <td>0.000</td>\n",
       "      <td>1637.076</td>\n",
       "      <td>451.847</td>\n",
       "      <td>1160.899</td>\n",
       "      <td>851.558</td>\n",
       "      <td>806.373</td>\n",
       "    </tr>\n",
       "    <tr>\n",
       "      <th>4</th>\n",
       "      <td>Belize</td>\n",
       "      <td>0.0</td>\n",
       "      <td>0.0</td>\n",
       "      <td>0.0</td>\n",
       "      <td>0.0</td>\n",
       "      <td>0.0</td>\n",
       "      <td>0.0</td>\n",
       "      <td>0.0</td>\n",
       "      <td>0.0</td>\n",
       "      <td>0.0</td>\n",
       "      <td>...</td>\n",
       "      <td>264.253</td>\n",
       "      <td>197.572</td>\n",
       "      <td>288.950</td>\n",
       "      <td>214.860</td>\n",
       "      <td>0.000</td>\n",
       "      <td>0.000</td>\n",
       "      <td>488.992</td>\n",
       "      <td>325.994</td>\n",
       "      <td>306.237</td>\n",
       "      <td>187.694</td>\n",
       "    </tr>\n",
       "  </tbody>\n",
       "</table>\n",
       "<p>5 rows × 825 columns</p>\n",
       "</div>"
      ],
      "text/plain": [
       "              location  2020-02-23  2020-02-24  2020-02-25  2020-02-26  \\\n",
       "0  Antigua and Barbuda         0.0         0.0         0.0         0.0   \n",
       "1            Argentina         0.0         0.0         0.0         0.0   \n",
       "2              Bahamas         0.0         0.0         0.0         0.0   \n",
       "3             Barbados         0.0         0.0         0.0         0.0   \n",
       "4               Belize         0.0         0.0         0.0         0.0   \n",
       "\n",
       "   2020-02-27  2020-02-28  2020-02-29  2020-03-01  2020-03-02  ...  \\\n",
       "0         0.0         0.0         0.0         0.0         0.0  ...   \n",
       "1         0.0         0.0         0.0         0.0         0.0  ...   \n",
       "2         0.0         0.0         0.0         0.0         0.0  ...   \n",
       "3         0.0         0.0         0.0         0.0         0.0  ...   \n",
       "4         0.0         0.0         0.0         0.0         0.0  ...   \n",
       "\n",
       "   2022-05-17  2022-05-18  2022-05-19  2022-05-20  2022-05-21  2022-05-22  \\\n",
       "0       0.000     607.730     557.086       0.000     324.123       0.000   \n",
       "1       0.000       0.000       0.000       0.000       0.000     953.541   \n",
       "2      80.622      55.428     123.452     221.710     161.244     156.205   \n",
       "3    1630.125    1400.726    1289.502    1077.481       0.000    1637.076   \n",
       "4     264.253     197.572     288.950     214.860       0.000       0.000   \n",
       "\n",
       "   2022-05-23  2022-05-24  2022-05-25  2022-05-26  \n",
       "0     405.154       0.000     810.307     577.344  \n",
       "1       0.000       0.000       0.000       0.000  \n",
       "2      73.064     131.011       0.000     317.449  \n",
       "3     451.847    1160.899     851.558     806.373  \n",
       "4     488.992     325.994     306.237     187.694  \n",
       "\n",
       "[5 rows x 825 columns]"
      ]
     },
     "execution_count": 4,
     "metadata": {},
     "output_type": "execute_result"
    }
   ],
   "source": [
    "# Cargar los datos de casos diarios\n",
    "file_path = './data/Daily_covid_cases_latam.csv'\n",
    "daily_cases = pd.read_csv(file_path)\n",
    "\n",
    "# Mostrar las primeras filas\n",
    "daily_cases.head()"
   ]
  },
  {
   "cell_type": "markdown",
   "metadata": {},
   "source": [
    "## 2. Limpieza de datos\n",
    "Realizamos una limpieza básica para manejar valores faltantes y ajustar el formato."
   ]
  },
  {
   "cell_type": "code",
   "execution_count": null,
   "metadata": {},
   "outputs": [],
   "source": [
    "# Manejo de valores faltantes\n",
    "daily_cases.fillna(0, inplace=True)\n",
    "\n",
    "# Renombrar columnas para mayor claridad (si es necesario)\n",
    "daily_cases.rename(columns={'location': 'País'}, inplace=True)\n",
    "\n",
    "# Mostrar resumen de los datos\n",
    "daily_cases.info()"
   ]
  },
  {
   "cell_type": "markdown",
   "metadata": {},
   "source": [
    "## 3. Visualización de datos\n",
    "Generamos gráficos para observar tendencias y patrones en los datos de COVID-19."
   ]
  },
  {
   "cell_type": "code",
   "execution_count": null,
   "metadata": {},
   "outputs": [],
   "source": [
    "# Seleccionar un país para la visualización\n",
    "pais_seleccionado = 'Argentina'\n",
    "datos_pais = daily_cases[daily_cases['País'] == pais_seleccionado].set_index('País').T\n",
    "\n",
    "# Convertir el índice a formato de fecha\n",
    "datos_pais.index = pd.to_datetime(datos_pais.index, errors='coerce')\n",
    "\n",
    "# Graficar los casos diarios\n",
    "plt.figure(figsize=(12, 6))\n",
    "plt.plot(datos_pais.index, datos_pais[pais_seleccionado], label=f'Casos diarios en {pais_seleccionado}', color='blue')\n",
    "plt.title(f'Evolución de casos diarios de COVID-19 en {pais_seleccionado}')\n",
    "plt.xlabel('Fecha')\n",
    "plt.ylabel('Casos diarios por millón de habitantes')\n",
    "plt.legend()\n",
    "plt.grid(True)\n",
    "plt.show()"
   ]
  },
  {
   "cell_type": "markdown",
   "metadata": {},
   "source": [
    "## 4. Conclusiones\n",
    "El análisis visual de los datos históricos permite observar cómo se desarrolló la pandemia en cada país, identificando momentos críticos y tendencias clave."
   ]
  }
 ],
 "metadata": {
  "kernelspec": {
   "display_name": "base",
   "language": "python",
   "name": "python3"
  },
  "language_info": {
   "codemirror_mode": {
    "name": "ipython",
    "version": 3
   },
   "file_extension": ".py",
   "mimetype": "text/x-python",
   "name": "python",
   "nbconvert_exporter": "python",
   "pygments_lexer": "ipython3",
   "version": "3.12.4"
  }
 },
 "nbformat": 4,
 "nbformat_minor": 5
}

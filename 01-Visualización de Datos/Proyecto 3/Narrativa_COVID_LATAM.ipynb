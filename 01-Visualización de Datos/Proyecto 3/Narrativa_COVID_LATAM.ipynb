{
 "cells": [
  {
   "cell_type": "markdown",
   "metadata": {},
   "source": [
    "# Narrativa de Datos sobre COVID-19 en LATAM\n",
    "\n",
    "En este cuaderno, exploramos datos relacionados con la evolución de la pandemia de COVID-19 en países de América Latina (LATAM). Usamos datos históricos de casos, muertes y vacunaciones para contar una historia visual impactante sobre cómo la pandemia afectó esta región."
   ]
  },
  {
   "cell_type": "code",
   "execution_count": null,
   "metadata": {},
   "outputs": [],
   "source": [
    "# Importar las bibliotecas necesarias\n",
    "import pandas as pd\n",
    "import matplotlib.pyplot as plt\n",
    "import seaborn as sns\n",
    "\n",
    "# Configurar estilo de gráficos\n",
    "sns.set(style=\"whitegrid\")"
   ]
  },
  {
   "cell_type": "markdown",
   "metadata": {},
   "source": [
    "## 1. Cargar los datos\n",
    "Cargamos los datos desde el archivo CSV proporcionado."
   ]
  },
  {
   "cell_type": "code",
   "execution_count": 1,
   "id": "7ba93b81",
   "metadata": {},
   "outputs": [
    {
     "name": "stdout",
     "output_type": "stream",
     "text": [
      "Downloading from https://www.kaggle.com/api/v1/datasets/download/davidrestrepo/challenge-covid19-in-latam?dataset_version_number=12...\n"
     ]
    },
    {
     "name": "stderr",
     "output_type": "stream",
     "text": [
      "100%|██████████| 2.84M/2.84M [00:00<00:00, 6.75MB/s]"
     ]
    },
    {
     "name": "stdout",
     "output_type": "stream",
     "text": [
      "Extracting files...\n"
     ]
    },
    {
     "name": "stderr",
     "output_type": "stream",
     "text": [
      "\n"
     ]
    },
    {
     "name": "stdout",
     "output_type": "stream",
     "text": [
      "Path to dataset files: C:\\Users\\frany\\.cache\\kagglehub\\datasets\\davidrestrepo\\challenge-covid19-in-latam\\versions\\12\n"
     ]
    }
   ],
   "source": [
    "# Descargar la base de datos\n",
    "# import kagglehub\n",
    "\n",
    "# # Download latest version\n",
    "# path = kagglehub.dataset_download(\"davidrestrepo/challenge-covid19-in-latam\")\n",
    "\n",
    "# print(\"Path to dataset files:\", path)"
   ]
  },
  {
   "cell_type": "code",
   "execution_count": null,
   "metadata": {},
   "outputs": [],
   "source": [
    "# Cargar los datos de casos diarios\n",
    "file_path = './data/Daily_covid_cases_latam.csv'\n",
    "daily_cases = pd.read_csv(file_path)\n",
    "\n",
    "# Mostrar las primeras filas\n",
    "daily_cases.head()"
   ]
  },
  {
   "cell_type": "markdown",
   "metadata": {},
   "source": [
    "## 2. Limpieza de datos\n",
    "Realizamos una limpieza básica para manejar valores faltantes y ajustar el formato."
   ]
  },
  {
   "cell_type": "code",
   "execution_count": null,
   "metadata": {},
   "outputs": [],
   "source": [
    "# Manejo de valores faltantes\n",
    "daily_cases.fillna(0, inplace=True)\n",
    "\n",
    "# Renombrar columnas para mayor claridad (si es necesario)\n",
    "daily_cases.rename(columns={'location': 'País'}, inplace=True)\n",
    "\n",
    "# Mostrar resumen de los datos\n",
    "daily_cases.info()"
   ]
  },
  {
   "cell_type": "markdown",
   "metadata": {},
   "source": [
    "## 3. Visualización de datos\n",
    "Generamos gráficos para observar tendencias y patrones en los datos de COVID-19."
   ]
  },
  {
   "cell_type": "code",
   "execution_count": null,
   "metadata": {},
   "outputs": [],
   "source": [
    "# Seleccionar un país para la visualización\n",
    "pais_seleccionado = 'Argentina'\n",
    "datos_pais = daily_cases[daily_cases['País'] == pais_seleccionado].set_index('País').T\n",
    "\n",
    "# Convertir el índice a formato de fecha\n",
    "datos_pais.index = pd.to_datetime(datos_pais.index, errors='coerce')\n",
    "\n",
    "# Graficar los casos diarios\n",
    "plt.figure(figsize=(12, 6))\n",
    "plt.plot(datos_pais.index, datos_pais[pais_seleccionado], label=f'Casos diarios en {pais_seleccionado}', color='blue')\n",
    "plt.title(f'Evolución de casos diarios de COVID-19 en {pais_seleccionado}')\n",
    "plt.xlabel('Fecha')\n",
    "plt.ylabel('Casos diarios por millón de habitantes')\n",
    "plt.legend()\n",
    "plt.grid(True)\n",
    "plt.show()"
   ]
  },
  {
   "cell_type": "markdown",
   "metadata": {},
   "source": [
    "## 4. Conclusiones\n",
    "El análisis visual de los datos históricos permite observar cómo se desarrolló la pandemia en cada país, identificando momentos críticos y tendencias clave."
   ]
  }
 ],
 "metadata": {
  "kernelspec": {
   "display_name": "base",
   "language": "python",
   "name": "python3"
  },
  "language_info": {
   "codemirror_mode": {
    "name": "ipython",
    "version": 3
   },
   "file_extension": ".py",
   "mimetype": "text/x-python",
   "name": "python",
   "nbconvert_exporter": "python",
   "pygments_lexer": "ipython3",
   "version": "3.12.4"
  }
 },
 "nbformat": 4,
 "nbformat_minor": 5
}
